{
 "cells": [
  {
   "cell_type": "code",
   "execution_count": 15,
   "metadata": {},
   "outputs": [],
   "source": [
    "import gcn.graph as graph\n",
    "import numpy as np\n",
    "import scipy.sparse\n"
   ]
  },
  {
   "cell_type": "code",
   "execution_count": 16,
   "metadata": {},
   "outputs": [],
   "source": [
    "def chebyshev(x, L):\n",
    "    return graph.chebyshev(L, x, hyper['K'])"
   ]
  },
  {
   "cell_type": "code",
   "execution_count": 17,
   "metadata": {},
   "outputs": [],
   "source": [
    "def create_sq_mesh(M, N):\n",
    "    # adjacency matrix\n",
    "    A = np.zeros((M * N, M * N))\n",
    "    for j in range(N):\n",
    "        for i in range(M):\n",
    "            # node id\n",
    "            k = (j - 1) * M + i\n",
    "            # edge north\n",
    "            if i > 1:\n",
    "                A[k, k - 1] = 1\n",
    "            # edge south\n",
    "            if i < M:\n",
    "                A[k, k + 1] = 1\n",
    "            # edge west\n",
    "            if j > 1:\n",
    "                A[k, k - M] = 1\n",
    "            # edge east\n",
    "            if j < N:\n",
    "                A[k, k + M] = 1\n",
    "    return A"
   ]
  },
  {
   "cell_type": "code",
   "execution_count": 78,
   "metadata": {},
   "outputs": [
    {
     "data": {
      "text/plain": [
       "array([[ 1.93672752+0.j        ,  2.31442165+0.j        ,\n",
       "         2.35448531+0.j        ,  2.89988299+0.j        ,\n",
       "         1.52610896+0.j        ,  1.81831128+0.j        ,\n",
       "         2.70117192+0.j        ,  2.42189312+0.j        ,\n",
       "         2.50448281+0.j        ,  3.51942746+0.j        ],\n",
       "       [-0.05660359+0.17043682j,  0.04685478-0.28573158j,\n",
       "        -0.12883701+0.26598821j, -0.49822713-0.05582733j,\n",
       "        -0.17389621+0.23576897j,  0.48263433-0.2732881j ,\n",
       "         0.57826148+0.03567676j,  0.00665949+0.36340146j,\n",
       "        -0.18894578+0.60706819j, -0.15116315-0.00421662j],\n",
       "       [-0.96253345+0.j        ,  1.41447018+0.j        ,\n",
       "         0.33661879+0.j        , -0.19931130+0.j        ,\n",
       "         0.60908459+0.j        ,  1.05668180+0.j        ,\n",
       "        -0.60526816+0.j        , -0.02643999+0.j        ,\n",
       "         0.64317910+0.j        ,  0.09876681+0.j        ],\n",
       "       [-0.05660359-0.17043682j,  0.04685478+0.28573158j,\n",
       "        -0.12883701-0.26598821j, -0.49822713+0.05582733j,\n",
       "        -0.17389621-0.23576897j,  0.48263433+0.2732881j ,\n",
       "         0.57826148-0.03567676j,  0.00665949-0.36340146j,\n",
       "        -0.18894578-0.60706819j, -0.15116315+0.00421662j]])"
      ]
     },
     "execution_count": 78,
     "metadata": {},
     "output_type": "execute_result"
    }
   ],
   "source": [
    "n = 4\n",
    "T = 10\n",
    "x = np.random.rand(n, T)\n",
    "w = np.fft.fft(x,axis=1)\n",
    "np.fft.fft(x,axis=0)"
   ]
  },
  {
   "cell_type": "code",
   "execution_count": 79,
   "metadata": {},
   "outputs": [],
   "source": [
    "A = scipy.sparse.csr_matrix(create_sq_mesh(int(np.sqrt(n)), int(np.sqrt(n))))"
   ]
  },
  {
   "cell_type": "code",
   "execution_count": 80,
   "metadata": {},
   "outputs": [],
   "source": [
    "L = graph.laplacian(A)"
   ]
  },
  {
   "cell_type": "code",
   "execution_count": 81,
   "metadata": {},
   "outputs": [
    {
     "data": {
      "text/plain": [
       "(4,)"
      ]
     },
     "execution_count": 81,
     "metadata": {},
     "output_type": "execute_result"
    }
   ],
   "source": [
    "w[:,0].shape"
   ]
  },
  {
   "cell_type": "code",
   "execution_count": 82,
   "metadata": {},
   "outputs": [],
   "source": [
    "def chebyshev(L, X, K):\n",
    "    \"\"\"Return T_k X where T_k are the Chebyshev polynomials of order up to K.\n",
    "    Complexity is O(KMN).\"\"\"\n",
    "    M, N = X.shape\n",
    "    # assert L.dtype == X.dtype\n",
    "\n",
    "    # L = rescale_L(L, lmax)\n",
    "    # Xt = T @ X: MxM @ MxN.\n",
    "    Xt = np.empty((K, M, N), dtype='complex')\n",
    "    # Xt_0 = T_0 X = I X = X.\n",
    "    Xt[0, ...] = X\n",
    "    # Xt_1 = T_1 X = L X.\n",
    "    if K > 1:\n",
    "        Xt[1, ...] = L.dot(X)\n",
    "    # Xt_k = 2 L Xt_k-1 - Xt_k-2.\n",
    "    for k in range(2, K):\n",
    "        Xt[k, ...] = 2 * L.dot(Xt[k-1, ...]) - Xt[k-2, ...]\n",
    "    return Xt"
   ]
  },
  {
   "cell_type": "code",
   "execution_count": 83,
   "metadata": {},
   "outputs": [],
   "source": [
    "def chebyshev2(L, X, K):\n",
    "    \"\"\"Return T_k X where T_k are the Chebyshev polynomials of order up to K.\n",
    "    Complexity is O(KMN).\"\"\"\n",
    "    M, N = X.shape\n",
    "    # assert L.dtype == X.dtype\n",
    "\n",
    "    # L = rescale_L(L, lmax)\n",
    "    # Xt = T @ X: MxM @ MxN.\n",
    "#     Xt = np.empty((K, M, N), L.dtype)\n",
    "    Xt = np.empty((K, M, N), dtype='complex')    \n",
    "    # Xt_0 = T_0 X = I X = X.\n",
    "    Xt[0, ...] = X\n",
    "    # Xt_1 = T_1 X = L X.\n",
    "    if K > 1:\n",
    "        Xt[1, ...] = L.dot(np.real(X)) + 1j*L.dot(np.imag(X))\n",
    "    # Xt_k = 2 L Xt_k-1 - Xt_k-2.\n",
    "    for k in range(2, K):\n",
    "        Xt[k, ...] = 2 * (L.dot(np.real(Xt[k-1, ...])) + 1j*L.dot(np.imag(Xt[k-1, ...])) ) - Xt[k-2, ...]\n",
    "    return Xt"
   ]
  },
  {
   "cell_type": "code",
   "execution_count": 84,
   "metadata": {},
   "outputs": [],
   "source": [
    "def chebyshev_einsum(L, X, K):\n",
    "    \"\"\"Return T_k X where T_k are the Chebyshev polynomials of order up to K.\n",
    "    Complexity is O(KMN).\"\"\"\n",
    "    M, N = X.shape\n",
    "    # assert L.dtype == X.dtype\n",
    "\n",
    "    # L = rescale_L(L, lmax)\n",
    "    # Xt = T @ X: MxM @ MxN.\n",
    "    Xt = np.empty((K, M, N), L.dtype)\n",
    "    # Xt_0 = T_0 X = I X = X.\n",
    "    Xt[0, ...] = X\n",
    "    # Xt_1 = T_1 X = L X.\n",
    "    if K > 1:\n",
    "        Xt[1, ...] = np.einsum('ik,kj->ij',L.todense(), X)\n",
    "    # Xt_k = 2 L Xt_k-1 - Xt_k-2.\n",
    "    for k in range(2, K):\n",
    "#         Xt[k, ...] = 2 * np.vdot(L, Xt[k-1, ...]) - Xt[k-2, ...]\n",
    "        Xt[k, ...] = 2 * np.einsum('ik,kj->ij',L.todense(), Xt[k-1, ...]) - Xt[k-2, ...]\n",
    "    return Xt"
   ]
  },
  {
   "cell_type": "code",
   "execution_count": 85,
   "metadata": {},
   "outputs": [
    {
     "data": {
      "text/plain": [
       "(4, 4)"
      ]
     },
     "execution_count": 85,
     "metadata": {},
     "output_type": "execute_result"
    }
   ],
   "source": [
    "L.shape"
   ]
  },
  {
   "cell_type": "code",
   "execution_count": 86,
   "metadata": {},
   "outputs": [
    {
     "data": {
      "text/plain": [
       "(4, 10)"
      ]
     },
     "execution_count": 86,
     "metadata": {},
     "output_type": "execute_result"
    }
   ],
   "source": [
    "np.einsum('ik,kj->ij',L.todense(),np.conjugate(w)).shape"
   ]
  },
  {
   "cell_type": "code",
   "execution_count": 88,
   "metadata": {},
   "outputs": [
    {
     "data": {
      "text/plain": [
       "array([[ 6.54890895 +0.00000000e+00j, -0.23612840 +3.88328758e-01j,\n",
       "         0.23191857 -5.22936011e-01j, -1.12746769 +7.48771350e-02j,\n",
       "        -0.56809267 -2.02170767e-01j, -0.99690136 +2.08166817e-16j,\n",
       "        -0.56809267 +2.02170767e-01j, -1.12746769 -7.48771350e-02j,\n",
       "         0.23191857 +5.22936011e-01j, -0.23612840 -3.88328758e-01j],\n",
       "       [ 4.87827777 +0.00000000e+00j,  0.34302306 +1.44070441e-01j,\n",
       "         0.20055870 -1.02198250e-01j,  0.78447492 +1.47082987e+00j,\n",
       "        -0.22307695 -2.76936096e-01j, -0.69226890 +1.88737914e-15j,\n",
       "        -0.22307695 +2.76936096e-01j,  0.78447492 -1.47082987e+00j,\n",
       "         0.20055870 +1.02198250e-01j,  0.34302306 -1.44070441e-01j],\n",
       "       [ 6.63217174 +0.00000000e+00j,  0.66093267 -3.60395293e-01j,\n",
       "        -0.94161309 +7.12830663e-01j, -0.60482368 -1.90707231e-01j,\n",
       "        -0.50126923 -1.81014092e-01j, -1.14012194 +5.55111512e-16j,\n",
       "        -0.50126923 +1.81014092e-01j, -0.60482368 +1.90707231e-01j,\n",
       "        -0.94161309 -7.12830663e-01j,  0.66093267 +3.60395293e-01j],\n",
       "       [ 5.93755455 +0.00000000e+00j,  0.50731438 +9.15026137e-01j,\n",
       "        -0.86316033 +3.09902656e-01j,  0.94419534 +1.10136922e+00j,\n",
       "         0.05387548 +8.04694346e-02j,  0.87833222 +7.77156117e-16j,\n",
       "         0.05387548 -8.04694346e-02j,  0.94419534 -1.10136922e+00j,\n",
       "        -0.86316033 -3.09902656e-01j,  0.50731438 -9.15026137e-01j]])"
      ]
     },
     "execution_count": 88,
     "metadata": {},
     "output_type": "execute_result"
    }
   ],
   "source": [
    "(np.real(w) + 1j*np.imag(w))"
   ]
  },
  {
   "cell_type": "code",
   "execution_count": 89,
   "metadata": {},
   "outputs": [],
   "source": [
    "xh = chebyshev(L, w, K)"
   ]
  },
  {
   "cell_type": "code",
   "execution_count": 90,
   "metadata": {},
   "outputs": [
    {
     "data": {
      "text/plain": [
       "0.0"
      ]
     },
     "execution_count": 90,
     "metadata": {},
     "output_type": "execute_result"
    }
   ],
   "source": [
    "K = 3\n",
    "np.linalg.norm(chebyshev(L, w, K) - chebyshev2(L, w, K))"
   ]
  },
  {
   "cell_type": "code",
   "execution_count": 91,
   "metadata": {},
   "outputs": [
    {
     "data": {
      "text/plain": [
       "(3, 4, 10)"
      ]
     },
     "execution_count": 91,
     "metadata": {},
     "output_type": "execute_result"
    }
   ],
   "source": [
    "xh.shape"
   ]
  },
  {
   "cell_type": "code",
   "execution_count": 102,
   "metadata": {},
   "outputs": [],
   "source": [
    "W = np.random.random((K,n))"
   ]
  },
  {
   "cell_type": "code",
   "execution_count": 104,
   "metadata": {},
   "outputs": [
    {
     "data": {
      "text/plain": [
       "(4, 10)"
      ]
     },
     "execution_count": 104,
     "metadata": {},
     "output_type": "execute_result"
    }
   ],
   "source": [
    "np.einsum('kn,knT->nT',W, xh).shape"
   ]
  },
  {
   "cell_type": "code",
   "execution_count": null,
   "metadata": {},
   "outputs": [],
   "source": []
  }
 ],
 "metadata": {
  "kernelspec": {
   "display_name": "Python 2",
   "language": "python",
   "name": "python2"
  },
  "language_info": {
   "codemirror_mode": {
    "name": "ipython",
    "version": 2
   },
   "file_extension": ".py",
   "mimetype": "text/x-python",
   "name": "python",
   "nbconvert_exporter": "python",
   "pygments_lexer": "ipython2",
   "version": "2.7.13"
  },
  "latex_envs": {
   "LaTeX_envs_menu_present": true,
   "autoclose": false,
   "autocomplete": true,
   "bibliofile": "biblio.bib",
   "cite_by": "apalike",
   "current_citInitial": 1,
   "eqLabelWithNumbers": true,
   "eqNumInitial": 1,
   "hotkeys": {
    "equation": "Ctrl-E",
    "itemize": "Ctrl-I"
   },
   "labels_anchors": false,
   "latex_user_defs": false,
   "report_style_numbering": false,
   "user_envs_cfg": false
  },
  "toc": {
   "nav_menu": {},
   "number_sections": true,
   "sideBar": true,
   "skip_h1_title": false,
   "toc_cell": false,
   "toc_position": {},
   "toc_section_display": "block",
   "toc_window_display": false
  },
  "varInspector": {
   "cols": {
    "lenName": 16,
    "lenType": 16,
    "lenVar": 40
   },
   "kernels_config": {
    "python": {
     "delete_cmd_postfix": "",
     "delete_cmd_prefix": "del ",
     "library": "var_list.py",
     "varRefreshCmd": "print(var_dic_list())"
    },
    "r": {
     "delete_cmd_postfix": ") ",
     "delete_cmd_prefix": "rm(",
     "library": "var_list.r",
     "varRefreshCmd": "cat(var_dic_list()) "
    }
   },
   "types_to_exclude": [
    "module",
    "function",
    "builtin_function_or_method",
    "instance",
    "_Feature"
   ],
   "window_display": true
  }
 },
 "nbformat": 4,
 "nbformat_minor": 2
}
